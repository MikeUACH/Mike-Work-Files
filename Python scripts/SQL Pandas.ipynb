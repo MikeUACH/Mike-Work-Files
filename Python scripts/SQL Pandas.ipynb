{
 "cells": [
  {
   "cell_type": "code",
   "execution_count": 1,
   "metadata": {},
   "outputs": [],
   "source": [
    "import pyodbc\n",
    "import pandas as pd"
   ]
  },
  {
   "cell_type": "code",
   "execution_count": 2,
   "metadata": {},
   "outputs": [
    {
     "name": "stdout",
     "output_type": "stream",
     "text": [
      "('42000', \"[42000] [Microsoft][ODBC Driver 17 for SQL Server][SQL Server]Cannot open server 'txcare-sql' requested by the login. Client with IP address '177.236.41.247' is not allowed to access the server.  To enable access, use the Azure Management Portal or run sp_set_firewall_rule on the master database to create a firewall rule for this IP address or address range.  It may take up to five minutes for this change to take effect. (40615) (SQLDriverConnect); [42000] [Microsoft][ODBC Driver 17 for SQL Server][SQL Server]Cannot open server 'txcare-sql' requested by the login. Client with IP address '177.236.41.247' is not allowed to access the server.  To enable access, use the Azure Management Portal or run sp_set_firewall_rule on the master database to create a firewall rule for this IP address or address range.  It may take up to five minutes for this change to take effect. (40615)\")\n"
     ]
    },
    {
     "ename": "NameError",
     "evalue": "name 'conn' is not defined",
     "output_type": "error",
     "traceback": [
      "\u001b[1;31m---------------------------------------------------------------------------\u001b[0m",
      "\u001b[1;31mNameError\u001b[0m                                 Traceback (most recent call last)",
      "Cell \u001b[1;32mIn[2], line 16\u001b[0m\n\u001b[0;32m     12\u001b[0m     \u001b[38;5;28mprint\u001b[39m(ex)\n\u001b[0;32m     14\u001b[0m \u001b[38;5;28;01mfinally\u001b[39;00m:\n\u001b[0;32m     15\u001b[0m     \u001b[38;5;66;03m# Cierra la conexión\u001b[39;00m\n\u001b[1;32m---> 16\u001b[0m     \u001b[43mconn\u001b[49m\u001b[38;5;241m.\u001b[39mclose()\n",
      "\u001b[1;31mNameError\u001b[0m: name 'conn' is not defined"
     ]
    }
   ],
   "source": [
    "try:\n",
    "    # Establece la conexión con la base de datos\n",
    "    conn = pyodbc.connect('Driver={ODBC Driver 17 for SQL Server};Server=tcp:txcare.database.windows.net,1433;Database=Txcare;Uid=fmariscal;Pwd=Pancho49193@2')\n",
    "    print(\"Conexión exitosa\")\n",
    "\n",
    "    # Consulta a la base de datos\n",
    "    query = \"SELECT * FROM PlantasGOL\"\n",
    "\n",
    "    # Utiliza pandas para ejecutar la consulta y obtener un DataFrame\n",
    "    df = pd.read_sql_query(query, conn)\n",
    "except Exception as ex:\n",
    "    print(ex)\n",
    "\n",
    "finally:\n",
    "    # Cierra la conexión\n",
    "    conn.close()"
   ]
  },
  {
   "cell_type": "code",
   "execution_count": 32,
   "metadata": {},
   "outputs": [
    {
     "data": {
      "text/html": [
       "<div>\n",
       "<style scoped>\n",
       "    .dataframe tbody tr th:only-of-type {\n",
       "        vertical-align: middle;\n",
       "    }\n",
       "\n",
       "    .dataframe tbody tr th {\n",
       "        vertical-align: top;\n",
       "    }\n",
       "\n",
       "    .dataframe thead th {\n",
       "        text-align: right;\n",
       "    }\n",
       "</style>\n",
       "<table border=\"1\" class=\"dataframe\">\n",
       "  <thead>\n",
       "    <tr style=\"text-align: right;\">\n",
       "      <th></th>\n",
       "      <th>ComboKey</th>\n",
       "      <th>FileGOL</th>\n",
       "      <th>furnaceID</th>\n",
       "      <th>Tank</th>\n",
       "      <th>FechaExportar</th>\n",
       "      <th>Directorio</th>\n",
       "      <th>Forzar</th>\n",
       "      <th>FechaUltimoPeticionProceso</th>\n",
       "      <th>FechaUltimoProcesoTxCare</th>\n",
       "      <th>FechaAuto</th>\n",
       "      <th>FechaIniciaAuto</th>\n",
       "      <th>Computadora</th>\n",
       "      <th>ComputadoraUltima</th>\n",
       "      <th>DuracionUltima</th>\n",
       "      <th>ProcesaAuto</th>\n",
       "      <th>id</th>\n",
       "    </tr>\n",
       "  </thead>\n",
       "  <tbody>\n",
       "    <tr>\n",
       "      <th>0</th>\n",
       "      <td>GLNCHL_EAF_51015838_LTC</td>\n",
       "      <td>gas-in-oil_Gerdau LN Charlotte_1_</td>\n",
       "      <td>32</td>\n",
       "      <td>1</td>\n",
       "      <td>2023-05-29 15:40:03.520</td>\n",
       "      <td>s04 GasOnLine</td>\n",
       "      <td>None</td>\n",
       "      <td>2024-05-29 15:45:22.563</td>\n",
       "      <td>2024-05-29 15:40:22.563</td>\n",
       "      <td>None</td>\n",
       "      <td>None</td>\n",
       "      <td>None</td>\n",
       "      <td>None</td>\n",
       "      <td>None</td>\n",
       "      <td>SI</td>\n",
       "      <td>1</td>\n",
       "    </tr>\n",
       "    <tr>\n",
       "      <th>1</th>\n",
       "      <td>GLNCHL_EAF_51015838_MT</td>\n",
       "      <td>gas-in-oil_Gerdau LN Charlotte_0_</td>\n",
       "      <td>32</td>\n",
       "      <td>0</td>\n",
       "      <td>2023-05-29 15:40:03.867</td>\n",
       "      <td>s04 GasOnLine</td>\n",
       "      <td>None</td>\n",
       "      <td>2024-05-29 15:45:25.530</td>\n",
       "      <td>2024-05-29 15:40:25.530</td>\n",
       "      <td>None</td>\n",
       "      <td>None</td>\n",
       "      <td>None</td>\n",
       "      <td>None</td>\n",
       "      <td>None</td>\n",
       "      <td>SI</td>\n",
       "      <td>2</td>\n",
       "    </tr>\n",
       "    <tr>\n",
       "      <th>2</th>\n",
       "      <td>GLNCHL_EAF_C0060451_LTC</td>\n",
       "      <td>gas-in-oil_Gerdau LN Charlotte_1_</td>\n",
       "      <td>32</td>\n",
       "      <td>1</td>\n",
       "      <td>2022-07-06 14:40:08.883</td>\n",
       "      <td>s04 GasOnLine</td>\n",
       "      <td>None</td>\n",
       "      <td>2024-05-29 15:45:28.203</td>\n",
       "      <td>2024-05-29 15:40:28.203</td>\n",
       "      <td>None</td>\n",
       "      <td>None</td>\n",
       "      <td>None</td>\n",
       "      <td>None</td>\n",
       "      <td>None</td>\n",
       "      <td>SI</td>\n",
       "      <td>3</td>\n",
       "    </tr>\n",
       "    <tr>\n",
       "      <th>3</th>\n",
       "      <td>GLNCHL_EAF_C0060451_MT</td>\n",
       "      <td>gas-in-oil_Gerdau LN Charlotte_0_</td>\n",
       "      <td>32</td>\n",
       "      <td>0</td>\n",
       "      <td>2022-07-25 00:40:01.687</td>\n",
       "      <td>Gerdau LN</td>\n",
       "      <td>None</td>\n",
       "      <td>2024-05-29 15:45:30.813</td>\n",
       "      <td>2024-05-29 15:40:30.813</td>\n",
       "      <td>None</td>\n",
       "      <td>None</td>\n",
       "      <td>None</td>\n",
       "      <td>None</td>\n",
       "      <td>None</td>\n",
       "      <td>SI</td>\n",
       "      <td>4</td>\n",
       "    </tr>\n",
       "    <tr>\n",
       "      <th>4</th>\n",
       "      <td>GLNCVL_EAF_D418199_LTC</td>\n",
       "      <td>gas-in-oil_Gerdau LN Cartersville_1_</td>\n",
       "      <td>37</td>\n",
       "      <td>1</td>\n",
       "      <td>2023-05-29 11:40:02.080</td>\n",
       "      <td>s04 GasOnLine</td>\n",
       "      <td>None</td>\n",
       "      <td>2024-05-29 15:45:33.310</td>\n",
       "      <td>2024-05-29 15:40:33.310</td>\n",
       "      <td>None</td>\n",
       "      <td>None</td>\n",
       "      <td>None</td>\n",
       "      <td>None</td>\n",
       "      <td>None</td>\n",
       "      <td>SI</td>\n",
       "      <td>5</td>\n",
       "    </tr>\n",
       "  </tbody>\n",
       "</table>\n",
       "</div>"
      ],
      "text/plain": [
       "                  ComboKey                               FileGOL furnaceID  \\\n",
       "0  GLNCHL_EAF_51015838_LTC     gas-in-oil_Gerdau LN Charlotte_1_        32   \n",
       "1   GLNCHL_EAF_51015838_MT     gas-in-oil_Gerdau LN Charlotte_0_        32   \n",
       "2  GLNCHL_EAF_C0060451_LTC     gas-in-oil_Gerdau LN Charlotte_1_        32   \n",
       "3   GLNCHL_EAF_C0060451_MT     gas-in-oil_Gerdau LN Charlotte_0_        32   \n",
       "4   GLNCVL_EAF_D418199_LTC  gas-in-oil_Gerdau LN Cartersville_1_        37   \n",
       "\n",
       "  Tank           FechaExportar     Directorio Forzar  \\\n",
       "0    1 2023-05-29 15:40:03.520  s04 GasOnLine   None   \n",
       "1    0 2023-05-29 15:40:03.867  s04 GasOnLine   None   \n",
       "2    1 2022-07-06 14:40:08.883  s04 GasOnLine   None   \n",
       "3    0 2022-07-25 00:40:01.687      Gerdau LN   None   \n",
       "4    1 2023-05-29 11:40:02.080  s04 GasOnLine   None   \n",
       "\n",
       "  FechaUltimoPeticionProceso FechaUltimoProcesoTxCare FechaAuto  \\\n",
       "0    2024-05-29 15:45:22.563  2024-05-29 15:40:22.563      None   \n",
       "1    2024-05-29 15:45:25.530  2024-05-29 15:40:25.530      None   \n",
       "2    2024-05-29 15:45:28.203  2024-05-29 15:40:28.203      None   \n",
       "3    2024-05-29 15:45:30.813  2024-05-29 15:40:30.813      None   \n",
       "4    2024-05-29 15:45:33.310  2024-05-29 15:40:33.310      None   \n",
       "\n",
       "  FechaIniciaAuto Computadora ComputadoraUltima DuracionUltima ProcesaAuto  id  \n",
       "0            None        None              None           None          SI   1  \n",
       "1            None        None              None           None          SI   2  \n",
       "2            None        None              None           None          SI   3  \n",
       "3            None        None              None           None          SI   4  \n",
       "4            None        None              None           None          SI   5  "
      ]
     },
     "execution_count": 32,
     "metadata": {},
     "output_type": "execute_result"
    }
   ],
   "source": [
    "df.head()\n",
    "# Ejemplo: AltaSteel EAF_0_20240526_235917"
   ]
  },
  {
   "cell_type": "code",
   "execution_count": 33,
   "metadata": {},
   "outputs": [
    {
     "name": "stderr",
     "output_type": "stream",
     "text": [
      "C:\\Users\\EJRuiz\\AppData\\Local\\Temp\\ipykernel_16072\\1358565502.py:4: UserWarning: pandas only supports SQLAlchemy connectable (engine/connection) or database string URI or sqlite3 DBAPI2 connection. Other DBAPI2 objects are not tested. Please consider using SQLAlchemy.\n",
      "  df2= pd.read_sql_query(query2, conn)\n"
     ]
    }
   ],
   "source": [
    "try:\n",
    "    conn = pyodbc.connect('Driver={ODBC Driver 17 for SQL Server};Server=tcp:txcare.database.windows.net,1433;Database=Txcare;Uid=fmariscal;Pwd=Pancho49193@2')\n",
    "    query2= \"SELECT * FROM ml_Tendencia\"\n",
    "    df2= pd.read_sql_query(query2, conn)\n",
    "except Exception as ex:\n",
    "    print(ex)\n",
    "\n",
    "finally:\n",
    "    # Cierra la conexión\n",
    "    conn.close()"
   ]
  },
  {
   "cell_type": "code",
   "execution_count": 34,
   "metadata": {},
   "outputs": [
    {
     "data": {
      "text/html": [
       "<div>\n",
       "<style scoped>\n",
       "    .dataframe tbody tr th:only-of-type {\n",
       "        vertical-align: middle;\n",
       "    }\n",
       "\n",
       "    .dataframe tbody tr th {\n",
       "        vertical-align: top;\n",
       "    }\n",
       "\n",
       "    .dataframe thead th {\n",
       "        text-align: right;\n",
       "    }\n",
       "</style>\n",
       "<table border=\"1\" class=\"dataframe\">\n",
       "  <thead>\n",
       "    <tr style=\"text-align: right;\">\n",
       "      <th></th>\n",
       "      <th>id</th>\n",
       "      <th>idGas</th>\n",
       "      <th>idPG</th>\n",
       "      <th>Fecha</th>\n",
       "      <th>v30</th>\n",
       "      <th>v60</th>\n",
       "      <th>v90</th>\n",
       "      <th>limit</th>\n",
       "    </tr>\n",
       "  </thead>\n",
       "  <tbody>\n",
       "  </tbody>\n",
       "</table>\n",
       "</div>"
      ],
      "text/plain": [
       "Empty DataFrame\n",
       "Columns: [id, idGas, idPG, Fecha, v30, v60, v90, limit]\n",
       "Index: []"
      ]
     },
     "execution_count": 34,
     "metadata": {},
     "output_type": "execute_result"
    }
   ],
   "source": [
    "df2"
   ]
  },
  {
   "cell_type": "code",
   "execution_count": 35,
   "metadata": {},
   "outputs": [
    {
     "name": "stderr",
     "output_type": "stream",
     "text": [
      "C:\\Users\\EJRuiz\\AppData\\Local\\Temp\\ipykernel_16072\\3237636217.py:4: UserWarning: pandas only supports SQLAlchemy connectable (engine/connection) or database string URI or sqlite3 DBAPI2 connection. Other DBAPI2 objects are not tested. Please consider using SQLAlchemy.\n",
      "  df3= pd.read_sql_query(query2, conn)\n"
     ]
    }
   ],
   "source": [
    "try:\n",
    "    conn = pyodbc.connect('Driver={ODBC Driver 17 for SQL Server};Server=tcp:txcare.database.windows.net,1433;Database=Txcare;Uid=fmariscal;Pwd=Pancho49193@2')\n",
    "    query2= \"SELECT * FROM ml_LlavesG\"\n",
    "    df3= pd.read_sql_query(query2, conn)\n",
    "except Exception as ex:\n",
    "    print(ex)\n",
    "\n",
    "finally:\n",
    "    # Cierra la conexión\n",
    "    conn.close()"
   ]
  },
  {
   "cell_type": "code",
   "execution_count": 36,
   "metadata": {},
   "outputs": [
    {
     "data": {
      "text/html": [
       "<div>\n",
       "<style scoped>\n",
       "    .dataframe tbody tr th:only-of-type {\n",
       "        vertical-align: middle;\n",
       "    }\n",
       "\n",
       "    .dataframe tbody tr th {\n",
       "        vertical-align: top;\n",
       "    }\n",
       "\n",
       "    .dataframe thead th {\n",
       "        text-align: right;\n",
       "    }\n",
       "</style>\n",
       "<table border=\"1\" class=\"dataframe\">\n",
       "  <thead>\n",
       "    <tr style=\"text-align: right;\">\n",
       "      <th></th>\n",
       "      <th>id</th>\n",
       "      <th>idTend</th>\n",
       "      <th>idGas</th>\n",
       "      <th>idGOL</th>\n",
       "    </tr>\n",
       "  </thead>\n",
       "  <tbody>\n",
       "  </tbody>\n",
       "</table>\n",
       "</div>"
      ],
      "text/plain": [
       "Empty DataFrame\n",
       "Columns: [id, idTend, idGas, idGOL]\n",
       "Index: []"
      ]
     },
     "execution_count": 36,
     "metadata": {},
     "output_type": "execute_result"
    }
   ],
   "source": [
    "df3"
   ]
  },
  {
   "cell_type": "code",
   "execution_count": 37,
   "metadata": {},
   "outputs": [
    {
     "name": "stderr",
     "output_type": "stream",
     "text": [
      "C:\\Users\\EJRuiz\\AppData\\Local\\Temp\\ipykernel_16072\\3879372934.py:4: UserWarning: pandas only supports SQLAlchemy connectable (engine/connection) or database string URI or sqlite3 DBAPI2 connection. Other DBAPI2 objects are not tested. Please consider using SQLAlchemy.\n",
      "  df4= pd.read_sql_query(query2, conn)\n"
     ]
    }
   ],
   "source": [
    "try:\n",
    "    conn = pyodbc.connect('Driver={ODBC Driver 17 for SQL Server};Server=tcp:txcare.database.windows.net,1433;Database=Txcare;Uid=fmariscal;Pwd=Pancho49193@2')\n",
    "    query2= \"SELECT * FROM ml_Gas_Limite\"\n",
    "    df4= pd.read_sql_query(query2, conn)\n",
    "except Exception as ex:\n",
    "    print(ex)\n",
    "\n",
    "finally:\n",
    "    # Cierra la conexión\n",
    "    conn.close()"
   ]
  },
  {
   "cell_type": "code",
   "execution_count": 38,
   "metadata": {},
   "outputs": [
    {
     "data": {
      "text/html": [
       "<div>\n",
       "<style scoped>\n",
       "    .dataframe tbody tr th:only-of-type {\n",
       "        vertical-align: middle;\n",
       "    }\n",
       "\n",
       "    .dataframe tbody tr th {\n",
       "        vertical-align: top;\n",
       "    }\n",
       "\n",
       "    .dataframe thead th {\n",
       "        text-align: right;\n",
       "    }\n",
       "</style>\n",
       "<table border=\"1\" class=\"dataframe\">\n",
       "  <thead>\n",
       "    <tr style=\"text-align: right;\">\n",
       "      <th></th>\n",
       "      <th>id</th>\n",
       "      <th>gas</th>\n",
       "      <th>limite</th>\n",
       "    </tr>\n",
       "  </thead>\n",
       "  <tbody>\n",
       "  </tbody>\n",
       "</table>\n",
       "</div>"
      ],
      "text/plain": [
       "Empty DataFrame\n",
       "Columns: [id, gas, limite]\n",
       "Index: []"
      ]
     },
     "execution_count": 38,
     "metadata": {},
     "output_type": "execute_result"
    }
   ],
   "source": [
    "df4"
   ]
  },
  {
   "cell_type": "code",
   "execution_count": 39,
   "metadata": {},
   "outputs": [
    {
     "name": "stderr",
     "output_type": "stream",
     "text": [
      "C:\\Users\\EJRuiz\\AppData\\Local\\Temp\\ipykernel_16072\\737569178.py:4: UserWarning: pandas only supports SQLAlchemy connectable (engine/connection) or database string URI or sqlite3 DBAPI2 connection. Other DBAPI2 objects are not tested. Please consider using SQLAlchemy.\n",
      "  df5= pd.read_sql_query(query5, conn)\n"
     ]
    }
   ],
   "source": [
    "try:\n",
    "    conn = pyodbc.connect('Driver={ODBC Driver 17 for SQL Server};Server=tcp:txcare.database.windows.net,1433;Database=Txcare;Uid=fmariscal;Pwd=Pancho49193@2')\n",
    "    query5= \"SELECT * FROM URERangoRMDSSummary_GOL\"\n",
    "    df5= pd.read_sql_query(query5, conn)\n",
    "except Exception as ex:\n",
    "    print(ex)\n",
    "\n",
    "finally:\n",
    "    # Cierra la conexión\n",
    "    conn.close()"
   ]
  },
  {
   "cell_type": "code",
   "execution_count": 40,
   "metadata": {},
   "outputs": [
    {
     "data": {
      "text/html": [
       "<div>\n",
       "<style scoped>\n",
       "    .dataframe tbody tr th:only-of-type {\n",
       "        vertical-align: middle;\n",
       "    }\n",
       "\n",
       "    .dataframe tbody tr th {\n",
       "        vertical-align: top;\n",
       "    }\n",
       "\n",
       "    .dataframe thead th {\n",
       "        text-align: right;\n",
       "    }\n",
       "</style>\n",
       "<table border=\"1\" class=\"dataframe\">\n",
       "  <thead>\n",
       "    <tr style=\"text-align: right;\">\n",
       "      <th></th>\n",
       "      <th>idRango</th>\n",
       "      <th>idRMDSSummary</th>\n",
       "      <th>valor</th>\n",
       "      <th>colorLetra</th>\n",
       "      <th>colorFondo</th>\n",
       "    </tr>\n",
       "  </thead>\n",
       "  <tbody>\n",
       "    <tr>\n",
       "      <th>0</th>\n",
       "      <td>2</td>\n",
       "      <td>40</td>\n",
       "      <td>Tata Steel</td>\n",
       "      <td>#3366FF</td>\n",
       "      <td>#FFFFFF</td>\n",
       "    </tr>\n",
       "    <tr>\n",
       "      <th>1</th>\n",
       "      <td>3</td>\n",
       "      <td>40</td>\n",
       "      <td>1</td>\n",
       "      <td>#0000FF</td>\n",
       "      <td>#FFFFFF</td>\n",
       "    </tr>\n",
       "    <tr>\n",
       "      <th>2</th>\n",
       "      <td>5</td>\n",
       "      <td>40</td>\n",
       "      <td>Bo Win Thailand NTS</td>\n",
       "      <td>#3366FF</td>\n",
       "      <td>#FFFFFF</td>\n",
       "    </tr>\n",
       "    <tr>\n",
       "      <th>3</th>\n",
       "      <td>6</td>\n",
       "      <td>40</td>\n",
       "      <td>AEG 31407</td>\n",
       "      <td>#3366FF</td>\n",
       "      <td>#FFFFFF</td>\n",
       "    </tr>\n",
       "    <tr>\n",
       "      <th>4</th>\n",
       "      <td>7</td>\n",
       "      <td>40</td>\n",
       "      <td>EAF</td>\n",
       "      <td>#3366FF</td>\n",
       "      <td>#FFFFFF</td>\n",
       "    </tr>\n",
       "    <tr>\n",
       "      <th>...</th>\n",
       "      <td>...</td>\n",
       "      <td>...</td>\n",
       "      <td>...</td>\n",
       "      <td>...</td>\n",
       "      <td>...</td>\n",
       "    </tr>\n",
       "    <tr>\n",
       "      <th>19530</th>\n",
       "      <td>738</td>\n",
       "      <td>43</td>\n",
       "      <td>16.027</td>\n",
       "      <td>#3366FF</td>\n",
       "      <td>#FFFFFF</td>\n",
       "    </tr>\n",
       "    <tr>\n",
       "      <th>19531</th>\n",
       "      <td>739</td>\n",
       "      <td>43</td>\n",
       "      <td>-</td>\n",
       "      <td>#3366FF</td>\n",
       "      <td>#FFFFFF</td>\n",
       "    </tr>\n",
       "    <tr>\n",
       "      <th>19532</th>\n",
       "      <td>740</td>\n",
       "      <td>43</td>\n",
       "      <td>-</td>\n",
       "      <td>#008080</td>\n",
       "      <td>#FFFFFF</td>\n",
       "    </tr>\n",
       "    <tr>\n",
       "      <th>19533</th>\n",
       "      <td>742</td>\n",
       "      <td>43</td>\n",
       "      <td>11.7611</td>\n",
       "      <td>#FF0000</td>\n",
       "      <td>#FFFFFF</td>\n",
       "    </tr>\n",
       "    <tr>\n",
       "      <th>19534</th>\n",
       "      <td>743</td>\n",
       "      <td>43</td>\n",
       "      <td>-</td>\n",
       "      <td>#008080</td>\n",
       "      <td>#FFFFFF</td>\n",
       "    </tr>\n",
       "  </tbody>\n",
       "</table>\n",
       "<p>19535 rows × 5 columns</p>\n",
       "</div>"
      ],
      "text/plain": [
       "       idRango  idRMDSSummary                valor colorLetra colorFondo\n",
       "0            2             40           Tata Steel    #3366FF    #FFFFFF\n",
       "1            3             40                    1    #0000FF    #FFFFFF\n",
       "2            5             40  Bo Win Thailand NTS    #3366FF    #FFFFFF\n",
       "3            6             40            AEG 31407    #3366FF    #FFFFFF\n",
       "4            7             40                  EAF    #3366FF    #FFFFFF\n",
       "...        ...            ...                  ...        ...        ...\n",
       "19530      738             43               16.027    #3366FF    #FFFFFF\n",
       "19531      739             43                    -    #3366FF    #FFFFFF\n",
       "19532      740             43                    -    #008080    #FFFFFF\n",
       "19533      742             43              11.7611    #FF0000    #FFFFFF\n",
       "19534      743             43                    -    #008080    #FFFFFF\n",
       "\n",
       "[19535 rows x 5 columns]"
      ]
     },
     "execution_count": 40,
     "metadata": {},
     "output_type": "execute_result"
    }
   ],
   "source": [
    "df5"
   ]
  }
 ],
 "metadata": {
  "kernelspec": {
   "display_name": "Python 3",
   "language": "python",
   "name": "python3"
  },
  "language_info": {
   "codemirror_mode": {
    "name": "ipython",
    "version": 3
   },
   "file_extension": ".py",
   "mimetype": "text/x-python",
   "name": "python",
   "nbconvert_exporter": "python",
   "pygments_lexer": "ipython3",
   "version": "3.12.3"
  }
 },
 "nbformat": 4,
 "nbformat_minor": 2
}
