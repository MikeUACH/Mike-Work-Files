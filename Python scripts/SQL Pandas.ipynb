{
 "cells": [
  {
   "cell_type": "code",
   "execution_count": 1,
   "metadata": {},
   "outputs": [],
   "source": [
    "import pyodbc\n",
    "import pandas as pd"
   ]
  },
  {
   "cell_type": "code",
   "execution_count": 2,
   "metadata": {},
   "outputs": [
    {
     "name": "stdout",
     "output_type": "stream",
     "text": [
      "Conexión exitosa\n"
     ]
    },
    {
     "name": "stderr",
     "output_type": "stream",
     "text": [
      "C:\\Users\\EJRuiz\\AppData\\Local\\Temp\\ipykernel_10456\\3415068190.py:10: UserWarning: pandas only supports SQLAlchemy connectable (engine/connection) or database string URI or sqlite3 DBAPI2 connection. Other DBAPI2 objects are not tested. Please consider using SQLAlchemy.\n",
      "  df = pd.read_sql_query(query, conn)\n"
     ]
    }
   ],
   "source": [
    "try:\n",
    "    # Establece la conexión con la base de datos\n",
    "    conn = pyodbc.connect('Driver={ODBC Driver 17 for SQL Server};Server=tcp:txcare.database.windows.net,1433;Database=Txcare;Uid=fmariscal;Pwd=Pancho49193@2')\n",
    "    print(\"Conexión exitosa\")\n",
    "\n",
    "    # Consulta a la base de datos\n",
    "    query = \"SELECT * FROM PlantasGOL\"\n",
    "\n",
    "    # Utiliza pandas para ejecutar la consulta y obtener un DataFrame\n",
    "    df = pd.read_sql_query(query, conn)\n",
    "except Exception as ex:\n",
    "    print(ex)\n",
    "\n",
    "finally:\n",
    "    # Cierra la conexión\n",
    "    conn.close()"
   ]
  },
  {
   "cell_type": "code",
   "execution_count": 3,
   "metadata": {},
   "outputs": [
    {
     "data": {
      "text/html": [
       "<div>\n",
       "<style scoped>\n",
       "    .dataframe tbody tr th:only-of-type {\n",
       "        vertical-align: middle;\n",
       "    }\n",
       "\n",
       "    .dataframe tbody tr th {\n",
       "        vertical-align: top;\n",
       "    }\n",
       "\n",
       "    .dataframe thead th {\n",
       "        text-align: right;\n",
       "    }\n",
       "</style>\n",
       "<table border=\"1\" class=\"dataframe\">\n",
       "  <thead>\n",
       "    <tr style=\"text-align: right;\">\n",
       "      <th></th>\n",
       "      <th>ComboKey</th>\n",
       "      <th>FileGOL</th>\n",
       "      <th>furnaceID</th>\n",
       "      <th>Tank</th>\n",
       "      <th>FechaExportar</th>\n",
       "      <th>Directorio</th>\n",
       "      <th>Forzar</th>\n",
       "      <th>FechaUltimoPeticionProceso</th>\n",
       "      <th>FechaUltimoProcesoTxCare</th>\n",
       "      <th>FechaAuto</th>\n",
       "      <th>FechaIniciaAuto</th>\n",
       "      <th>Computadora</th>\n",
       "      <th>ComputadoraUltima</th>\n",
       "      <th>DuracionUltima</th>\n",
       "      <th>ProcesaAuto</th>\n",
       "      <th>id</th>\n",
       "    </tr>\n",
       "  </thead>\n",
       "  <tbody>\n",
       "    <tr>\n",
       "      <th>0</th>\n",
       "      <td>GLNCHL_EAF_51015838_LTC</td>\n",
       "      <td>gas-in-oil_Gerdau LN Charlotte_1_</td>\n",
       "      <td>32</td>\n",
       "      <td>1</td>\n",
       "      <td>2023-05-29 15:40:03.520</td>\n",
       "      <td>s04 GasOnLine</td>\n",
       "      <td>None</td>\n",
       "      <td>2024-06-18 20:14:51.360</td>\n",
       "      <td>2024-06-18 20:09:51.360</td>\n",
       "      <td>None</td>\n",
       "      <td>None</td>\n",
       "      <td>None</td>\n",
       "      <td>None</td>\n",
       "      <td>None</td>\n",
       "      <td>SI</td>\n",
       "      <td>1</td>\n",
       "    </tr>\n",
       "    <tr>\n",
       "      <th>1</th>\n",
       "      <td>GLNCHL_EAF_51015838_MT</td>\n",
       "      <td>gas-in-oil_Gerdau LN Charlotte_0_</td>\n",
       "      <td>32</td>\n",
       "      <td>0</td>\n",
       "      <td>2023-05-29 15:40:03.867</td>\n",
       "      <td>s04 GasOnLine</td>\n",
       "      <td>None</td>\n",
       "      <td>2024-06-18 20:14:53.810</td>\n",
       "      <td>2024-06-18 20:09:53.810</td>\n",
       "      <td>None</td>\n",
       "      <td>None</td>\n",
       "      <td>None</td>\n",
       "      <td>None</td>\n",
       "      <td>None</td>\n",
       "      <td>SI</td>\n",
       "      <td>2</td>\n",
       "    </tr>\n",
       "    <tr>\n",
       "      <th>2</th>\n",
       "      <td>GLNCHL_EAF_C0060451_LTC</td>\n",
       "      <td>gas-in-oil_Gerdau LN Charlotte_1_</td>\n",
       "      <td>32</td>\n",
       "      <td>1</td>\n",
       "      <td>2022-07-06 14:40:08.883</td>\n",
       "      <td>s04 GasOnLine</td>\n",
       "      <td>None</td>\n",
       "      <td>2024-06-18 20:14:56.247</td>\n",
       "      <td>2024-06-18 20:09:56.247</td>\n",
       "      <td>None</td>\n",
       "      <td>None</td>\n",
       "      <td>None</td>\n",
       "      <td>None</td>\n",
       "      <td>None</td>\n",
       "      <td>SI</td>\n",
       "      <td>3</td>\n",
       "    </tr>\n",
       "    <tr>\n",
       "      <th>3</th>\n",
       "      <td>GLNCHL_EAF_C0060451_MT</td>\n",
       "      <td>gas-in-oil_Gerdau LN Charlotte_0_</td>\n",
       "      <td>32</td>\n",
       "      <td>0</td>\n",
       "      <td>2022-07-25 00:40:01.687</td>\n",
       "      <td>Gerdau LN</td>\n",
       "      <td>None</td>\n",
       "      <td>2024-06-18 20:14:58.737</td>\n",
       "      <td>2024-06-18 20:09:58.737</td>\n",
       "      <td>None</td>\n",
       "      <td>None</td>\n",
       "      <td>None</td>\n",
       "      <td>None</td>\n",
       "      <td>None</td>\n",
       "      <td>SI</td>\n",
       "      <td>4</td>\n",
       "    </tr>\n",
       "    <tr>\n",
       "      <th>4</th>\n",
       "      <td>GLNCVL_EAF_D418199_LTC</td>\n",
       "      <td>gas-in-oil_Gerdau LN Cartersville_1_</td>\n",
       "      <td>37</td>\n",
       "      <td>1</td>\n",
       "      <td>2023-05-29 11:40:02.080</td>\n",
       "      <td>s04 GasOnLine</td>\n",
       "      <td>None</td>\n",
       "      <td>2024-06-18 20:15:00.907</td>\n",
       "      <td>2024-06-18 20:10:00.907</td>\n",
       "      <td>None</td>\n",
       "      <td>None</td>\n",
       "      <td>None</td>\n",
       "      <td>None</td>\n",
       "      <td>None</td>\n",
       "      <td>SI</td>\n",
       "      <td>5</td>\n",
       "    </tr>\n",
       "  </tbody>\n",
       "</table>\n",
       "</div>"
      ],
      "text/plain": [
       "                  ComboKey                               FileGOL furnaceID  \\\n",
       "0  GLNCHL_EAF_51015838_LTC     gas-in-oil_Gerdau LN Charlotte_1_        32   \n",
       "1   GLNCHL_EAF_51015838_MT     gas-in-oil_Gerdau LN Charlotte_0_        32   \n",
       "2  GLNCHL_EAF_C0060451_LTC     gas-in-oil_Gerdau LN Charlotte_1_        32   \n",
       "3   GLNCHL_EAF_C0060451_MT     gas-in-oil_Gerdau LN Charlotte_0_        32   \n",
       "4   GLNCVL_EAF_D418199_LTC  gas-in-oil_Gerdau LN Cartersville_1_        37   \n",
       "\n",
       "  Tank           FechaExportar     Directorio Forzar  \\\n",
       "0    1 2023-05-29 15:40:03.520  s04 GasOnLine   None   \n",
       "1    0 2023-05-29 15:40:03.867  s04 GasOnLine   None   \n",
       "2    1 2022-07-06 14:40:08.883  s04 GasOnLine   None   \n",
       "3    0 2022-07-25 00:40:01.687      Gerdau LN   None   \n",
       "4    1 2023-05-29 11:40:02.080  s04 GasOnLine   None   \n",
       "\n",
       "  FechaUltimoPeticionProceso FechaUltimoProcesoTxCare FechaAuto  \\\n",
       "0    2024-06-18 20:14:51.360  2024-06-18 20:09:51.360      None   \n",
       "1    2024-06-18 20:14:53.810  2024-06-18 20:09:53.810      None   \n",
       "2    2024-06-18 20:14:56.247  2024-06-18 20:09:56.247      None   \n",
       "3    2024-06-18 20:14:58.737  2024-06-18 20:09:58.737      None   \n",
       "4    2024-06-18 20:15:00.907  2024-06-18 20:10:00.907      None   \n",
       "\n",
       "  FechaIniciaAuto Computadora ComputadoraUltima DuracionUltima ProcesaAuto  id  \n",
       "0            None        None              None           None          SI   1  \n",
       "1            None        None              None           None          SI   2  \n",
       "2            None        None              None           None          SI   3  \n",
       "3            None        None              None           None          SI   4  \n",
       "4            None        None              None           None          SI   5  "
      ]
     },
     "execution_count": 3,
     "metadata": {},
     "output_type": "execute_result"
    }
   ],
   "source": [
    "df.head()\n",
    "# Ejemplo: AltaSteel EAF_0_20240526_235917"
   ]
  },
  {
   "cell_type": "code",
   "execution_count": 4,
   "metadata": {},
   "outputs": [
    {
     "name": "stderr",
     "output_type": "stream",
     "text": [
      "C:\\Users\\EJRuiz\\AppData\\Local\\Temp\\ipykernel_10456\\1358565502.py:4: UserWarning: pandas only supports SQLAlchemy connectable (engine/connection) or database string URI or sqlite3 DBAPI2 connection. Other DBAPI2 objects are not tested. Please consider using SQLAlchemy.\n",
      "  df2= pd.read_sql_query(query2, conn)\n"
     ]
    }
   ],
   "source": [
    "try:\n",
    "    conn = pyodbc.connect('Driver={ODBC Driver 17 for SQL Server};Server=tcp:txcare.database.windows.net,1433;Database=Txcare;Uid=fmariscal;Pwd=Pancho49193@2')\n",
    "    query2= \"SELECT * FROM ml_Tendencia\"\n",
    "    df2= pd.read_sql_query(query2, conn)\n",
    "except Exception as ex:\n",
    "    print(ex)\n",
    "\n",
    "finally:\n",
    "    # Cierra la conexión\n",
    "    conn.close()"
   ]
  },
  {
   "cell_type": "code",
   "execution_count": 5,
   "metadata": {},
   "outputs": [
    {
     "data": {
      "text/html": [
       "<div>\n",
       "<style scoped>\n",
       "    .dataframe tbody tr th:only-of-type {\n",
       "        vertical-align: middle;\n",
       "    }\n",
       "\n",
       "    .dataframe tbody tr th {\n",
       "        vertical-align: top;\n",
       "    }\n",
       "\n",
       "    .dataframe thead th {\n",
       "        text-align: right;\n",
       "    }\n",
       "</style>\n",
       "<table border=\"1\" class=\"dataframe\">\n",
       "  <thead>\n",
       "    <tr style=\"text-align: right;\">\n",
       "      <th></th>\n",
       "      <th>id</th>\n",
       "      <th>idGas</th>\n",
       "      <th>idPG</th>\n",
       "      <th>valorActual</th>\n",
       "      <th>Fecha</th>\n",
       "      <th>v30</th>\n",
       "      <th>v60</th>\n",
       "      <th>v90</th>\n",
       "      <th>limit</th>\n",
       "    </tr>\n",
       "  </thead>\n",
       "  <tbody>\n",
       "    <tr>\n",
       "      <th>0</th>\n",
       "      <td>1</td>\n",
       "      <td>1</td>\n",
       "      <td>7</td>\n",
       "      <td>100.0</td>\n",
       "      <td>2024-05-23</td>\n",
       "      <td>80.0</td>\n",
       "      <td>90.0</td>\n",
       "      <td>120.0</td>\n",
       "      <td>50.0</td>\n",
       "    </tr>\n",
       "  </tbody>\n",
       "</table>\n",
       "</div>"
      ],
      "text/plain": [
       "   id  idGas  idPG  valorActual      Fecha   v30   v60    v90  limit\n",
       "0   1      1     7        100.0 2024-05-23  80.0  90.0  120.0   50.0"
      ]
     },
     "execution_count": 5,
     "metadata": {},
     "output_type": "execute_result"
    }
   ],
   "source": [
    "df2"
   ]
  },
  {
   "cell_type": "code",
   "execution_count": 6,
   "metadata": {},
   "outputs": [
    {
     "name": "stderr",
     "output_type": "stream",
     "text": [
      "C:\\Users\\EJRuiz\\AppData\\Local\\Temp\\ipykernel_10456\\3237636217.py:4: UserWarning: pandas only supports SQLAlchemy connectable (engine/connection) or database string URI or sqlite3 DBAPI2 connection. Other DBAPI2 objects are not tested. Please consider using SQLAlchemy.\n",
      "  df3= pd.read_sql_query(query2, conn)\n"
     ]
    }
   ],
   "source": [
    "try:\n",
    "    conn = pyodbc.connect('Driver={ODBC Driver 17 for SQL Server};Server=tcp:txcare.database.windows.net,1433;Database=Txcare;Uid=fmariscal;Pwd=Pancho49193@2')\n",
    "    query2= \"SELECT * FROM ml_LlavesG\"\n",
    "    df3= pd.read_sql_query(query2, conn)\n",
    "except Exception as ex:\n",
    "    print(ex)\n",
    "\n",
    "finally:\n",
    "    # Cierra la conexión\n",
    "    conn.close()"
   ]
  },
  {
   "cell_type": "code",
   "execution_count": 7,
   "metadata": {},
   "outputs": [
    {
     "data": {
      "text/html": [
       "<div>\n",
       "<style scoped>\n",
       "    .dataframe tbody tr th:only-of-type {\n",
       "        vertical-align: middle;\n",
       "    }\n",
       "\n",
       "    .dataframe tbody tr th {\n",
       "        vertical-align: top;\n",
       "    }\n",
       "\n",
       "    .dataframe thead th {\n",
       "        text-align: right;\n",
       "    }\n",
       "</style>\n",
       "<table border=\"1\" class=\"dataframe\">\n",
       "  <thead>\n",
       "    <tr style=\"text-align: right;\">\n",
       "      <th></th>\n",
       "      <th>id</th>\n",
       "      <th>idGOL</th>\n",
       "      <th>idTend</th>\n",
       "      <th>idGas</th>\n",
       "      <th>idAlerta</th>\n",
       "      <th>idUsuario</th>\n",
       "    </tr>\n",
       "  </thead>\n",
       "  <tbody>\n",
       "  </tbody>\n",
       "</table>\n",
       "</div>"
      ],
      "text/plain": [
       "Empty DataFrame\n",
       "Columns: [id, idGOL, idTend, idGas, idAlerta, idUsuario]\n",
       "Index: []"
      ]
     },
     "execution_count": 7,
     "metadata": {},
     "output_type": "execute_result"
    }
   ],
   "source": [
    "df3"
   ]
  },
  {
   "cell_type": "code",
   "execution_count": 8,
   "metadata": {},
   "outputs": [
    {
     "name": "stderr",
     "output_type": "stream",
     "text": [
      "C:\\Users\\EJRuiz\\AppData\\Local\\Temp\\ipykernel_10456\\3879372934.py:4: UserWarning: pandas only supports SQLAlchemy connectable (engine/connection) or database string URI or sqlite3 DBAPI2 connection. Other DBAPI2 objects are not tested. Please consider using SQLAlchemy.\n",
      "  df4= pd.read_sql_query(query2, conn)\n"
     ]
    }
   ],
   "source": [
    "try:\n",
    "    conn = pyodbc.connect('Driver={ODBC Driver 17 for SQL Server};Server=tcp:txcare.database.windows.net,1433;Database=Txcare;Uid=fmariscal;Pwd=Pancho49193@2')\n",
    "    query2= \"SELECT * FROM ml_Gas_Limite\"\n",
    "    df4= pd.read_sql_query(query2, conn)\n",
    "except Exception as ex:\n",
    "    print(ex)\n",
    "\n",
    "finally:\n",
    "    # Cierra la conexión\n",
    "    conn.close()"
   ]
  },
  {
   "cell_type": "code",
   "execution_count": 9,
   "metadata": {},
   "outputs": [
    {
     "data": {
      "text/html": [
       "<div>\n",
       "<style scoped>\n",
       "    .dataframe tbody tr th:only-of-type {\n",
       "        vertical-align: middle;\n",
       "    }\n",
       "\n",
       "    .dataframe tbody tr th {\n",
       "        vertical-align: top;\n",
       "    }\n",
       "\n",
       "    .dataframe thead th {\n",
       "        text-align: right;\n",
       "    }\n",
       "</style>\n",
       "<table border=\"1\" class=\"dataframe\">\n",
       "  <thead>\n",
       "    <tr style=\"text-align: right;\">\n",
       "      <th></th>\n",
       "      <th>id</th>\n",
       "      <th>gas</th>\n",
       "      <th>limite</th>\n",
       "    </tr>\n",
       "  </thead>\n",
       "  <tbody>\n",
       "    <tr>\n",
       "      <th>0</th>\n",
       "      <td>1</td>\n",
       "      <td>H</td>\n",
       "      <td>50.0</td>\n",
       "    </tr>\n",
       "  </tbody>\n",
       "</table>\n",
       "</div>"
      ],
      "text/plain": [
       "   id gas  limite\n",
       "0   1   H    50.0"
      ]
     },
     "execution_count": 9,
     "metadata": {},
     "output_type": "execute_result"
    }
   ],
   "source": [
    "df4"
   ]
  },
  {
   "cell_type": "code",
   "execution_count": 10,
   "metadata": {},
   "outputs": [
    {
     "name": "stderr",
     "output_type": "stream",
     "text": [
      "C:\\Users\\EJRuiz\\AppData\\Local\\Temp\\ipykernel_10456\\737569178.py:4: UserWarning: pandas only supports SQLAlchemy connectable (engine/connection) or database string URI or sqlite3 DBAPI2 connection. Other DBAPI2 objects are not tested. Please consider using SQLAlchemy.\n",
      "  df5= pd.read_sql_query(query5, conn)\n"
     ]
    }
   ],
   "source": [
    "try:\n",
    "    conn = pyodbc.connect('Driver={ODBC Driver 17 for SQL Server};Server=tcp:txcare.database.windows.net,1433;Database=Txcare;Uid=fmariscal;Pwd=Pancho49193@2')\n",
    "    query5= \"SELECT * FROM URERangoRMDSSummary_GOL\"\n",
    "    df5= pd.read_sql_query(query5, conn)\n",
    "except Exception as ex:\n",
    "    print(ex)\n",
    "\n",
    "finally:\n",
    "    # Cierra la conexión\n",
    "    conn.close()"
   ]
  },
  {
   "cell_type": "code",
   "execution_count": 11,
   "metadata": {},
   "outputs": [
    {
     "data": {
      "text/html": [
       "<div>\n",
       "<style scoped>\n",
       "    .dataframe tbody tr th:only-of-type {\n",
       "        vertical-align: middle;\n",
       "    }\n",
       "\n",
       "    .dataframe tbody tr th {\n",
       "        vertical-align: top;\n",
       "    }\n",
       "\n",
       "    .dataframe thead th {\n",
       "        text-align: right;\n",
       "    }\n",
       "</style>\n",
       "<table border=\"1\" class=\"dataframe\">\n",
       "  <thead>\n",
       "    <tr style=\"text-align: right;\">\n",
       "      <th></th>\n",
       "      <th>idRango</th>\n",
       "      <th>idRMDSSummary</th>\n",
       "      <th>valor</th>\n",
       "      <th>colorLetra</th>\n",
       "      <th>colorFondo</th>\n",
       "    </tr>\n",
       "  </thead>\n",
       "  <tbody>\n",
       "    <tr>\n",
       "      <th>0</th>\n",
       "      <td>2</td>\n",
       "      <td>40</td>\n",
       "      <td>Tata Steel</td>\n",
       "      <td>#3366FF</td>\n",
       "      <td>#FFFFFF</td>\n",
       "    </tr>\n",
       "    <tr>\n",
       "      <th>1</th>\n",
       "      <td>3</td>\n",
       "      <td>40</td>\n",
       "      <td>1</td>\n",
       "      <td>#0000FF</td>\n",
       "      <td>#FFFFFF</td>\n",
       "    </tr>\n",
       "    <tr>\n",
       "      <th>2</th>\n",
       "      <td>5</td>\n",
       "      <td>40</td>\n",
       "      <td>Bo Win Thailand NTS</td>\n",
       "      <td>#3366FF</td>\n",
       "      <td>#FFFFFF</td>\n",
       "    </tr>\n",
       "    <tr>\n",
       "      <th>3</th>\n",
       "      <td>6</td>\n",
       "      <td>40</td>\n",
       "      <td>AEG 31407</td>\n",
       "      <td>#3366FF</td>\n",
       "      <td>#FFFFFF</td>\n",
       "    </tr>\n",
       "    <tr>\n",
       "      <th>4</th>\n",
       "      <td>7</td>\n",
       "      <td>40</td>\n",
       "      <td>EAF</td>\n",
       "      <td>#3366FF</td>\n",
       "      <td>#FFFFFF</td>\n",
       "    </tr>\n",
       "    <tr>\n",
       "      <th>...</th>\n",
       "      <td>...</td>\n",
       "      <td>...</td>\n",
       "      <td>...</td>\n",
       "      <td>...</td>\n",
       "      <td>...</td>\n",
       "    </tr>\n",
       "    <tr>\n",
       "      <th>19530</th>\n",
       "      <td>738</td>\n",
       "      <td>43</td>\n",
       "      <td>16.027</td>\n",
       "      <td>#3366FF</td>\n",
       "      <td>#FFFFFF</td>\n",
       "    </tr>\n",
       "    <tr>\n",
       "      <th>19531</th>\n",
       "      <td>739</td>\n",
       "      <td>43</td>\n",
       "      <td>-</td>\n",
       "      <td>#3366FF</td>\n",
       "      <td>#FFFFFF</td>\n",
       "    </tr>\n",
       "    <tr>\n",
       "      <th>19532</th>\n",
       "      <td>740</td>\n",
       "      <td>43</td>\n",
       "      <td>-</td>\n",
       "      <td>#008080</td>\n",
       "      <td>#FFFFFF</td>\n",
       "    </tr>\n",
       "    <tr>\n",
       "      <th>19533</th>\n",
       "      <td>742</td>\n",
       "      <td>43</td>\n",
       "      <td>11.7611</td>\n",
       "      <td>#FF0000</td>\n",
       "      <td>#FFFFFF</td>\n",
       "    </tr>\n",
       "    <tr>\n",
       "      <th>19534</th>\n",
       "      <td>743</td>\n",
       "      <td>43</td>\n",
       "      <td>-</td>\n",
       "      <td>#008080</td>\n",
       "      <td>#FFFFFF</td>\n",
       "    </tr>\n",
       "  </tbody>\n",
       "</table>\n",
       "<p>19535 rows × 5 columns</p>\n",
       "</div>"
      ],
      "text/plain": [
       "       idRango  idRMDSSummary                valor colorLetra colorFondo\n",
       "0            2             40           Tata Steel    #3366FF    #FFFFFF\n",
       "1            3             40                    1    #0000FF    #FFFFFF\n",
       "2            5             40  Bo Win Thailand NTS    #3366FF    #FFFFFF\n",
       "3            6             40            AEG 31407    #3366FF    #FFFFFF\n",
       "4            7             40                  EAF    #3366FF    #FFFFFF\n",
       "...        ...            ...                  ...        ...        ...\n",
       "19530      738             43               16.027    #3366FF    #FFFFFF\n",
       "19531      739             43                    -    #3366FF    #FFFFFF\n",
       "19532      740             43                    -    #008080    #FFFFFF\n",
       "19533      742             43              11.7611    #FF0000    #FFFFFF\n",
       "19534      743             43                    -    #008080    #FFFFFF\n",
       "\n",
       "[19535 rows x 5 columns]"
      ]
     },
     "execution_count": 11,
     "metadata": {},
     "output_type": "execute_result"
    }
   ],
   "source": [
    "df5"
   ]
  },
  {
   "cell_type": "code",
   "execution_count": 12,
   "metadata": {},
   "outputs": [
    {
     "name": "stderr",
     "output_type": "stream",
     "text": [
      "C:\\Users\\EJRuiz\\AppData\\Local\\Temp\\ipykernel_10456\\2670122105.py:4: UserWarning: pandas only supports SQLAlchemy connectable (engine/connection) or database string URI or sqlite3 DBAPI2 connection. Other DBAPI2 objects are not tested. Please consider using SQLAlchemy.\n",
      "  df6= pd.read_sql_query(query5, conn)\n"
     ]
    }
   ],
   "source": [
    "try:\n",
    "    conn = pyodbc.connect('Driver={ODBC Driver 17 for SQL Server};Server=tcp:txcare.database.windows.net,1433;Database=Txcare;Uid=fmariscal;Pwd=Pancho49193@2')\n",
    "    query5= \"SELECT * FROM ml_Gas_Alerta\"\n",
    "    df6= pd.read_sql_query(query5, conn)\n",
    "except Exception as ex:\n",
    "    print(ex)\n",
    "\n",
    "finally:\n",
    "    # Cierra la conexión\n",
    "    conn.close()"
   ]
  },
  {
   "cell_type": "code",
   "execution_count": 13,
   "metadata": {},
   "outputs": [
    {
     "data": {
      "text/html": [
       "<div>\n",
       "<style scoped>\n",
       "    .dataframe tbody tr th:only-of-type {\n",
       "        vertical-align: middle;\n",
       "    }\n",
       "\n",
       "    .dataframe tbody tr th {\n",
       "        vertical-align: top;\n",
       "    }\n",
       "\n",
       "    .dataframe thead th {\n",
       "        text-align: right;\n",
       "    }\n",
       "</style>\n",
       "<table border=\"1\" class=\"dataframe\">\n",
       "  <thead>\n",
       "    <tr style=\"text-align: right;\">\n",
       "      <th></th>\n",
       "      <th>idAlerta</th>\n",
       "      <th>mes</th>\n",
       "      <th>tipoAlerta</th>\n",
       "      <th>idTendencia</th>\n",
       "      <th>idLlave</th>\n",
       "      <th>idGas</th>\n",
       "      <th>valorActual</th>\n",
       "    </tr>\n",
       "  </thead>\n",
       "  <tbody>\n",
       "  </tbody>\n",
       "</table>\n",
       "</div>"
      ],
      "text/plain": [
       "Empty DataFrame\n",
       "Columns: [idAlerta, mes, tipoAlerta, idTendencia, idLlave, idGas, valorActual]\n",
       "Index: []"
      ]
     },
     "execution_count": 13,
     "metadata": {},
     "output_type": "execute_result"
    }
   ],
   "source": [
    "df6"
   ]
  },
  {
   "cell_type": "code",
   "execution_count": 14,
   "metadata": {},
   "outputs": [
    {
     "name": "stderr",
     "output_type": "stream",
     "text": [
      "C:\\Users\\EJRuiz\\AppData\\Local\\Temp\\ipykernel_10456\\1940744358.py:4: UserWarning: pandas only supports SQLAlchemy connectable (engine/connection) or database string URI or sqlite3 DBAPI2 connection. Other DBAPI2 objects are not tested. Please consider using SQLAlchemy.\n",
      "  df7= pd.read_sql_query(query5, conn)\n"
     ]
    }
   ],
   "source": [
    "try:\n",
    "    conn = pyodbc.connect('Driver={ODBC Driver 17 for SQL Server};Server=tcp:txcare.database.windows.net,1433;Database=Txcare;Uid=fmariscal;Pwd=Pancho49193@2')\n",
    "    query5= \"select * from [dbo].[URERMDSSummary] where Computadora ='vmtxcareauto01'\"\n",
    "    df7= pd.read_sql_query(query5, conn)\n",
    "except Exception as ex:\n",
    "    print(ex)\n",
    "\n",
    "finally:\n",
    "    # Cierra la conexión\n",
    "    conn.close()"
   ]
  },
  {
   "cell_type": "code",
   "execution_count": 15,
   "metadata": {},
   "outputs": [
    {
     "data": {
      "text/html": [
       "<div>\n",
       "<style scoped>\n",
       "    .dataframe tbody tr th:only-of-type {\n",
       "        vertical-align: middle;\n",
       "    }\n",
       "\n",
       "    .dataframe tbody tr th {\n",
       "        vertical-align: top;\n",
       "    }\n",
       "\n",
       "    .dataframe thead th {\n",
       "        text-align: right;\n",
       "    }\n",
       "</style>\n",
       "<table border=\"1\" class=\"dataframe\">\n",
       "  <thead>\n",
       "    <tr style=\"text-align: right;\">\n",
       "      <th></th>\n",
       "      <th>idRMDSSummary</th>\n",
       "      <th>idPlanta</th>\n",
       "      <th>EAF</th>\n",
       "      <th>item</th>\n",
       "      <th>idCorp</th>\n",
       "      <th>idFecha</th>\n",
       "      <th>ruta</th>\n",
       "      <th>F1</th>\n",
       "      <th>F2</th>\n",
       "      <th>visible</th>\n",
       "      <th>...</th>\n",
       "      <th>FechaAuto</th>\n",
       "      <th>FORZAR</th>\n",
       "      <th>FechaIniciaAuto</th>\n",
       "      <th>Computadora</th>\n",
       "      <th>ComputadoraUltima</th>\n",
       "      <th>DuracionUltima</th>\n",
       "      <th>procesaAuto</th>\n",
       "      <th>RestriccionComputadora</th>\n",
       "      <th>Lugar</th>\n",
       "      <th>prefijoArchivos</th>\n",
       "    </tr>\n",
       "  </thead>\n",
       "  <tbody>\n",
       "  </tbody>\n",
       "</table>\n",
       "<p>0 rows × 40 columns</p>\n",
       "</div>"
      ],
      "text/plain": [
       "Empty DataFrame\n",
       "Columns: [idRMDSSummary, idPlanta, EAF, item, idCorp, idFecha, ruta, F1, F2, visible, numItems, furnaceId, ultimaActualizacion, GenerarXML, estatus, accion, fechaInicial_old, fechaInicial_new, removePossibleOutliers, FiltroCCR, zipCCR, ccrFile, ultimaActualizacionLocalMty, matchPhasing, matchPhaseDate, IncluirEnDashboard, UTCOffset, FechaUltimoCCR, PlantName, Directorio, FechaAuto, FORZAR, FechaIniciaAuto, Computadora, ComputadoraUltima, DuracionUltima, procesaAuto, RestriccionComputadora, Lugar, prefijoArchivos]\n",
       "Index: []\n",
       "\n",
       "[0 rows x 40 columns]"
      ]
     },
     "execution_count": 15,
     "metadata": {},
     "output_type": "execute_result"
    }
   ],
   "source": [
    "df7"
   ]
  }
 ],
 "metadata": {
  "kernelspec": {
   "display_name": "Python 3",
   "language": "python",
   "name": "python3"
  },
  "language_info": {
   "codemirror_mode": {
    "name": "ipython",
    "version": 3
   },
   "file_extension": ".py",
   "mimetype": "text/x-python",
   "name": "python",
   "nbconvert_exporter": "python",
   "pygments_lexer": "ipython3",
   "version": "3.12.3"
  }
 },
 "nbformat": 4,
 "nbformat_minor": 2
}
